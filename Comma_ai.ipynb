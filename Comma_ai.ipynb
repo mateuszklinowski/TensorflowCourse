{
  "nbformat": 4,
  "nbformat_minor": 0,
  "metadata": {
    "colab": {
      "name": "Comma ai.ipynb",
      "provenance": [],
      "collapsed_sections": [],
      "include_colab_link": true
    },
    "kernelspec": {
      "name": "python3",
      "display_name": "Python 3"
    },
    "accelerator": "GPU"
  },
  "cells": [
    {
      "cell_type": "markdown",
      "metadata": {
        "id": "view-in-github",
        "colab_type": "text"
      },
      "source": [
        "<a href=\"https://colab.research.google.com/github/mateuszklinowski/TensorflowCourse/blob/master/Comma_ai.ipynb\" target=\"_parent\"><img src=\"https://colab.research.google.com/assets/colab-badge.svg\" alt=\"Open In Colab\"/></a>"
      ]
    },
    {
      "cell_type": "code",
      "metadata": {
        "id": "rYzNvyyn_Ucb",
        "colab_type": "code",
        "colab": {}
      },
      "source": [
        "!pip install tf-nightly-gpu\n",
        "!pip install \"tensorflow_hub==0.4.0\"\n",
        "!pip install -U tensorflow_datasets\n"
      ],
      "execution_count": 0,
      "outputs": []
    },
    {
      "cell_type": "code",
      "metadata": {
        "id": "vAf1MUrM_jAk",
        "colab_type": "code",
        "outputId": "5c85e6ab-db85-4445-b5f7-12f4f283976d",
        "colab": {
          "base_uri": "https://localhost:8080/",
          "height": 254
        }
      },
      "source": [
        "from __future__ import absolute_import, division, print_function, unicode_literals\n",
        "import numpy as np\n",
        "import matplotlib.pyplot as plt\n",
        "import tensorflow as tf\n",
        "import tensorflow_hub as hub\n",
        "import tensorflow_datasets as tfds\n",
        "import cv2.cv2 as cv\n",
        "import cv2 as cv2\n",
        "import time\n",
        "from tensorflow.keras import layers\n",
        "import logging\n",
        "\n",
        "logger = tf.get_logger()\n",
        "logger.setLevel(logging.ERROR)\n",
        "\n",
        "tf.enable_eager_execution()"
      ],
      "execution_count": 4,
      "outputs": [
        {
          "output_type": "stream",
          "text": [
            "WARNING:tensorflow:\n",
            "\n",
            "  TensorFlow's `tf-nightly` package will soon be updated to TensorFlow 2.0.\n",
            "\n",
            "  Please upgrade your code to TensorFlow 2.0:\n",
            "    * https://www.tensorflow.org/beta/guide/migration_guide\n",
            "\n",
            "  Or install the latest stable TensorFlow 1.X release:\n",
            "    * `pip install -U \"tensorflow==1.*\"`\n",
            "\n",
            "  Otherwise your code may be broken by the change.\n",
            "\n",
            "  \n"
          ],
          "name": "stdout"
        }
      ]
    },
    {
      "cell_type": "code",
      "metadata": {
        "id": "Ts-5eJCWA1aR",
        "colab_type": "code",
        "colab": {
          "base_uri": "https://localhost:8080/",
          "height": 35
        },
        "outputId": "4f58b6eb-a0d7-49b0-801e-9b6cea02e04c"
      },
      "source": [
        "from google.colab import drive\n",
        "drive.mount('/content/drive', force_remount=True)"
      ],
      "execution_count": 5,
      "outputs": [
        {
          "output_type": "stream",
          "text": [
            "Mounted at /content/drive\n"
          ],
          "name": "stdout"
        }
      ]
    },
    {
      "cell_type": "code",
      "metadata": {
        "id": "25j7DwceCHNf",
        "colab_type": "code",
        "colab": {}
      },
      "source": [
        "!ls drive/My\\ Drive/speedchallenge/combined"
      ],
      "execution_count": 0,
      "outputs": []
    },
    {
      "cell_type": "code",
      "metadata": {
        "id": "uMaVGjtzgIw_",
        "colab_type": "code",
        "colab": {}
      },
      "source": [
        "import pathlib\n",
        "data_root = pathlib.Path('/content/drive/My Drive/speedchallenge/combined')\n",
        "AUTOTUNE = tf.data.experimental.AUTOTUNE"
      ],
      "execution_count": 0,
      "outputs": []
    },
    {
      "cell_type": "markdown",
      "metadata": {
        "id": "onemdr8ogVpF",
        "colab_type": "text"
      },
      "source": [
        "Create list containing all images paths"
      ]
    },
    {
      "cell_type": "code",
      "metadata": {
        "id": "X6zElFIXgUId",
        "colab_type": "code",
        "colab": {}
      },
      "source": [
        "import random\n",
        "all_image_paths = list()\n",
        "for item in data_root.iterdir():\n",
        "    all_image_paths.append(item)\n",
        "\n",
        "all_image_paths = [str(path) for path in all_image_paths]\n",
        "random.shuffle(all_image_paths)"
      ],
      "execution_count": 0,
      "outputs": []
    },
    {
      "cell_type": "markdown",
      "metadata": {
        "id": "jz7LMZYTgcpX",
        "colab_type": "text"
      },
      "source": [
        "Print images length:\n"
      ]
    },
    {
      "cell_type": "code",
      "metadata": {
        "id": "mcYKdI7vgftu",
        "colab_type": "code",
        "colab": {
          "base_uri": "https://localhost:8080/",
          "height": 35
        },
        "outputId": "42934407-3c9b-4f19-a027-af8dea56ed74"
      },
      "source": [
        "image_count = len(all_image_paths)\n",
        "print(\"N: \", image_count)"
      ],
      "execution_count": 9,
      "outputs": [
        {
          "output_type": "stream",
          "text": [
            "N:  20400\n"
          ],
          "name": "stdout"
        }
      ]
    },
    {
      "cell_type": "code",
      "metadata": {
        "id": "mqHszut2-spz",
        "colab_type": "code",
        "colab": {}
      },
      "source": [
        "for item in data_root.iterdir():\n",
        "    path = item.as_posix()\n",
        "    if '(' in path:\n",
        "      print(path)"
      ],
      "execution_count": 0,
      "outputs": []
    },
    {
      "cell_type": "markdown",
      "metadata": {
        "id": "qPh8TCAthAg5",
        "colab_type": "text"
      },
      "source": [
        "Create utils functions for processing images\n"
      ]
    },
    {
      "cell_type": "code",
      "metadata": {
        "id": "Pk1h-TrvhD7H",
        "colab_type": "code",
        "colab": {}
      },
      "source": [
        "import tensorflow as tf\n",
        "\n",
        "def preprocess_image(image):\n",
        "    image = tf.image.decode_png(image, channels=3)\n",
        "    image = tf.image.resize(image, [224, 224])\n",
        "    image /= 255.0\n",
        "    return image\n",
        "\n",
        "def load_and_process_image(image_path):\n",
        "    image = tf.read_file(image_path)\n",
        "    return preprocess_image(image)"
      ],
      "execution_count": 0,
      "outputs": []
    },
    {
      "cell_type": "markdown",
      "metadata": {
        "id": "-xDJyowWgy86",
        "colab_type": "text"
      },
      "source": [
        "Create TF Dataset's from images paths"
      ]
    },
    {
      "cell_type": "code",
      "metadata": {
        "id": "tnQK0RU7g2CL",
        "colab_type": "code",
        "colab": {}
      },
      "source": [
        "path_ds = tf.data.Dataset.from_tensor_slices(all_image_paths)\n",
        "image_ds = path_ds.map(load_and_process_image, num_parallel_calls=AUTOTUNE)"
      ],
      "execution_count": 0,
      "outputs": []
    },
    {
      "cell_type": "code",
      "metadata": {
        "id": "n7NSHrAGhbR7",
        "colab_type": "code",
        "colab": {
          "base_uri": "https://localhost:8080/",
          "height": 199
        },
        "outputId": "46bfbe89-e4aa-40b2-ed6a-47464285a33a"
      },
      "source": [
        "predictor = open('/content/drive/My Drive/speedchallenge/train.txt', 'r').readlines()\n",
        "predictor = list(map(lambda x: float(x), predictor))\n",
        "values_ds = tf.data.Dataset.from_tensor_slices(tf.cast(predictor, tf.double))\n",
        "\n",
        "for label in values_ds.take(10):\n",
        "  print(label)"
      ],
      "execution_count": 13,
      "outputs": [
        {
          "output_type": "stream",
          "text": [
            "tf.Tensor(28.10556983947754, shape=(), dtype=float64)\n",
            "tf.Tensor(28.10556983947754, shape=(), dtype=float64)\n",
            "tf.Tensor(28.10652732849121, shape=(), dtype=float64)\n",
            "tf.Tensor(28.130403518676758, shape=(), dtype=float64)\n",
            "tf.Tensor(28.109243392944336, shape=(), dtype=float64)\n",
            "tf.Tensor(28.088571548461914, shape=(), dtype=float64)\n",
            "tf.Tensor(28.034210205078125, shape=(), dtype=float64)\n",
            "tf.Tensor(28.018491744995117, shape=(), dtype=float64)\n",
            "tf.Tensor(27.986623764038086, shape=(), dtype=float64)\n",
            "tf.Tensor(28.0163516998291, shape=(), dtype=float64)\n"
          ],
          "name": "stdout"
        }
      ]
    },
    {
      "cell_type": "markdown",
      "metadata": {
        "id": "yXiaxlBnileQ",
        "colab_type": "text"
      },
      "source": [
        "Combining images and values into one DataSet"
      ]
    },
    {
      "cell_type": "code",
      "metadata": {
        "id": "9_HgdyuQiksL",
        "colab_type": "code",
        "colab": {
          "base_uri": "https://localhost:8080/",
          "height": 35
        },
        "outputId": "69b1144e-0e08-480a-ae27-d86df0d68264"
      },
      "source": [
        "image_label_ds = tf.data.Dataset.zip((image_ds, values_ds))\n",
        "print(\"DataSet: \", image_label_ds)\n"
      ],
      "execution_count": 14,
      "outputs": [
        {
          "output_type": "stream",
          "text": [
            "DataSet:  <DatasetV1Adapter shapes: ((224, 224, 3), ()), types: (tf.float32, tf.float64)>\n"
          ],
          "name": "stdout"
        }
      ]
    },
    {
      "cell_type": "code",
      "metadata": {
        "id": "1gXCPIxhie2K",
        "colab_type": "code",
        "colab": {}
      },
      "source": [
        "# Reformat Images and Create Batches\n",
        "BATCH_SIZE = 32\n",
        "DATASET_SIZE = 20400"
      ],
      "execution_count": 0,
      "outputs": []
    },
    {
      "cell_type": "code",
      "metadata": {
        "id": "6axM40oPig2X",
        "colab_type": "code",
        "colab": {}
      },
      "source": [
        "image_label_ds = image_label_ds.shuffle(3670)\n",
        "\n",
        "train_ds = image_label_ds.take(int(0.8*20400))\n",
        "test_ds = image_label_ds.skip(int(0.8*20400))\n",
        "\n",
        "train_batches = train_ds.shuffle(3670).batch(BATCH_SIZE)\n",
        "test_batches = test_ds.shuffle(3670).batch(BATCH_SIZE)\n"
      ],
      "execution_count": 0,
      "outputs": []
    },
    {
      "cell_type": "markdown",
      "metadata": {
        "id": "2OysI2Keiu9A",
        "colab_type": "text"
      },
      "source": [
        " Do Simple Transfer Learning with TensorFlow Hub"
      ]
    },
    {
      "cell_type": "code",
      "metadata": {
        "id": "IITe5Qqritpp",
        "colab_type": "code",
        "colab": {}
      },
      "source": [
        "URL = \"https://tfhub.dev/google/tf2-preview/mobilenet_v2/feature_vector/4\"\n",
        "feature_extractor = hub.KerasLayer(URL, input_shape=(224, 224, 3), trainable=False)\n",
        "feature_extractor.trainable = False\n",
        "\n",
        "model = tf.keras.Sequential([\n",
        "    feature_extractor,\n",
        "    tf.keras.layers.Dense(units=1, activation=tf.nn.sigmoid)\n",
        "])\n"
      ],
      "execution_count": 0,
      "outputs": []
    },
    {
      "cell_type": "markdown",
      "metadata": {
        "id": "6cwnuNhHixbl",
        "colab_type": "text"
      },
      "source": [
        "Model summary"
      ]
    },
    {
      "cell_type": "code",
      "metadata": {
        "id": "8J5lEhbEiwrA",
        "colab_type": "code",
        "colab": {
          "base_uri": "https://localhost:8080/",
          "height": 254
        },
        "outputId": "6c788d34-8428-466f-eaf3-3db6e88e0c7d"
      },
      "source": [
        "\n",
        "print(model.summary())"
      ],
      "execution_count": 18,
      "outputs": [
        {
          "output_type": "stream",
          "text": [
            "Model: \"sequential\"\n",
            "_________________________________________________________________\n",
            "Layer (type)                 Output Shape              Param #   \n",
            "=================================================================\n",
            "keras_layer (KerasLayer)     (None, 1280)              2257984   \n",
            "_________________________________________________________________\n",
            "dense (Dense)                (None, 1)                 1281      \n",
            "=================================================================\n",
            "Total params: 2,259,265\n",
            "Trainable params: 1,281\n",
            "Non-trainable params: 2,257,984\n",
            "_________________________________________________________________\n",
            "None\n"
          ],
          "name": "stdout"
        }
      ]
    },
    {
      "cell_type": "code",
      "metadata": {
        "id": "JCp-_ivMi0Mc",
        "colab_type": "code",
        "colab": {}
      },
      "source": [
        "model.compile(\n",
        "  optimizer='adam',\n",
        "  loss='mean_squared_error',\n",
        "  metrics=['mean_squared_error']\n",
        ")"
      ],
      "execution_count": 0,
      "outputs": []
    },
    {
      "cell_type": "code",
      "metadata": {
        "id": "Dn9gNhqLi1Wi",
        "colab_type": "code",
        "colab": {}
      },
      "source": [
        "EPOCHS = 2"
      ],
      "execution_count": 0,
      "outputs": []
    },
    {
      "cell_type": "code",
      "metadata": {
        "id": "P4LSci3Pi2U8",
        "colab_type": "code",
        "colab": {
          "base_uri": "https://localhost:8080/",
          "height": 35
        },
        "outputId": "0de8f3fb-7cdd-4410-b704-c8ebb14c5580"
      },
      "source": [
        "history = model.fit(train_batches,\n",
        "                    epochs=EPOCHS,\n",
        "                    validation_data=test_batches,\n",
        "                    verbose=1)"
      ],
      "execution_count": 0,
      "outputs": [
        {
          "output_type": "stream",
          "text": [
            "Epoch 1/2\n"
          ],
          "name": "stdout"
        }
      ]
    },
    {
      "cell_type": "code",
      "metadata": {
        "id": "EMgHtr5ki4Ia",
        "colab_type": "code",
        "colab": {}
      },
      "source": [
        "plt.xlabel('Epoch Number')\n",
        "plt.ylabel(\"Loss Magnitude\")\n",
        "plt.plot(history.history['loss'])"
      ],
      "execution_count": 0,
      "outputs": []
    }
  ]
}